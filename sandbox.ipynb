{
 "cells": [
  {
   "cell_type": "code",
   "execution_count": null,
   "metadata": {},
   "outputs": [],
   "source": [
    "import os\n",
    "from face_detection import perform_face_detection\n",
    "PATH = os.getcwd()\n",
    "\n",
    "folder_mapping = {\n",
    "    'white_faces': 'black_faces',\n",
    "    'black_faces': 'white_faces'\n",
    "}\n",
    "\n",
    "for input_folder, output_folder in folder_mapping.items():\n",
    "    input_path = f'{PATH}/../datasets_directory/dataset/{input_folder}'\n",
    "    output_path = f'{PATH}/../datasets_directory/test_dataset/{output_folder}'\n",
    "    perform_face_detection(input_path, output_path)"
   ]
  }
 ],
 "metadata": {
  "kernelspec": {
   "display_name": "blackwhitefacedetector-eFQwdokx-py3.9",
   "language": "python",
   "name": "python3"
  },
  "language_info": {
   "codemirror_mode": {
    "name": "ipython",
    "version": 3
   },
   "file_extension": ".py",
   "mimetype": "text/x-python",
   "name": "python",
   "nbconvert_exporter": "python",
   "pygments_lexer": "ipython3",
   "version": "3.9.11"
  },
  "orig_nbformat": 4
 },
 "nbformat": 4,
 "nbformat_minor": 2
}
